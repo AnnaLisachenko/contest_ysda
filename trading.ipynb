{
 "cells": [
  {
   "cell_type": "markdown",
   "id": "37a76a4e",
   "metadata": {
    "id": "37a76a4e"
   },
   "source": [
    "# Введение \n",
    "\n",
    "В этом конкурсе вы будете решать задачу из индустрии высокочастотного трейдинга (High-Frequency trading, HFT). Несмотря на наличие слова “трейдинг” в названии, это прежде всего высокотехнологичная индустрия, которая имеет довольно мало отношения к экономике: лидерство на рынке определяется скоростью и точностью работы инфраструктуры и торговых моделей. \n",
    "\n",
    "В рамках соревнования вам предстоит построить модель машинного обучения для предсказания краткосрочного изменения цены, то есть реализовать один из способов повышения эффективности торговой модели.\n",
    "\n",
    "А чтобы работать с данными было еще интереснее, эксперты из команды HFT-фонда **Spectral:Technologies** подготовили краткий экскурс в ключевые концепты HFT и термины, необходимые для участия в соревновании."
   ]
  },
  {
   "cell_type": "markdown",
   "id": "dc6eca4a",
   "metadata": {
    "id": "dc6eca4a"
   },
   "source": [
    "# Биржа и ордербук\n",
    "\n",
    "Упрощенно говоря, биржа --- это место, где торгуются различные *активы* (будь то фьючерсы на нефть, акции компаний, валютные пары и т.д.). По большому счету неважно, что представляет из себя конкретный актив – главное, что это некоторая сущность, у которой есть какая-то стоимость и которую можно купить или продать.\n",
    "\n",
    "Для примера рассмотрим валютную пару EUR/USD. Допустим, у нас есть некоторое количество долларов, которое мы хотим обменять на евро. Мы можем прийти на биржу и сказать \"я желаю купить 240 евро по цене 1.2 доллара за евро\". Тем самым мы выставляем *лимитную заявку* (**limit order**) (в дальнейшем будет использоваться *ордер* вместо \"заявки\" как более распространенный в индустрии термин). Ордер называется лимитным, т.к. мы явно выставляем предел цены, по которой готовы купить актив. Количество актива, которое мы желаем продать или купить в ордере, называют *объемом*. \n",
    "\n",
    "Подобные ордера аналогично можно выставлять и на продажу актива. Множество лимитных ордеров на продажу и покупку называется *книгой заявок* или *биржевым стаканом*, или, что чаще распространено, **ордербуком**.\n",
    "\n",
    "На картинке ниже показан ордербук, а также ордер из примера выше.\n",
    "\n",
    "\n",
    "<img src=\"orderbook.jpg\" width=\"600\">\n",
    "\n",
    "\n",
    "Ордера на покупку называются **биды** (bids), ордера на продажу называются **аски** (asks). Мнемонически можно запомнить, что **b**uy = **b**id. Расстояние между минимальным аском и максимальным бидом называется **спред** (spread).\n",
    "\n",
    "Важно, что для ордербука в течение торгового периода справедливо ask > bid, и что биды в ордербуке расположены по убыванию цены, а аски по возрастанию.\n",
    "\n",
    "Далее мы разберем, как именно на бирже заключаются *сделки*, т.е. непосредственно обмен. \n",
    "\n",
    "\n",
    "Помимо явного выставления цены ордера (т.е. постановки *лимитного ордера*), мы можем прийти на биржу и сказать \"я хочу купить 300 евро по лучшей цене\" – это будет так называемый *маркет ордер* (**market order**). В этом случае биржа берет лимитные ордера на продажу и начинает их *матчинг* с маркет-ордером на покупку. \"По лучшей цене\" для нас означает как можно дешевле, т.е. матчинг будет происходить в порядке возрастания цен асков. В приведенном примере мы сначала купим 200 евро по цене 1.22, а поскольку мы запросили 300, то еще 100 мы докупим по цене 1.23.\n",
    "\n",
    "<img src=\"trade.jpg\" width=\"600\">\n",
    "\n",
    "\n",
    "Таким образом, наш маркет-ордер будет исполнен, равно как и лимитные ордера, с которыми наш ордер заматчился. Лимитный ордер по цене 1.22 исполнен целиком, а по цене 1.23 --- частично. В итоге, в ордербуке останется лимитный ордер на продажу 300 евро по цене 1.23.\n",
    "\n",
    "Исполненный лимитный ордер обычно называют *зафиленным* (от fill), а в результате успешного матчинга совершается *сделка* (**trade**). Соответственно, в данном примере было совершено две сделки.\n",
    "\n",
    "Отметим, что, как правило, с каждой сделки биржа берет *комиссию* (**fee**), причем эта комиссия может быть разной для обоих участников сделки."
   ]
  },
  {
   "cell_type": "markdown",
   "id": "2ecdbce4",
   "metadata": {
    "id": "2ecdbce4"
   },
   "source": [
    "\n",
    "## Технические особенности\n",
    "\n",
    "С технической точки зрения основная функция биржи --- проведение описанного матчинга *честно*. *Честно* в данном случае состоит из двух пунктов:\n",
    "\n",
    "1. В правильном порядке с точки зрения цен (по возрастанию или убыванию в зависимости от стороны стакана).\n",
    "2. В правильном порядке с точки зрения времени выставления лимитных ордеров.\n",
    "\n",
    "Если два участника торговли поставили свои лимитные ордера в одну сторону стакана и на одну и ту же цену, матчиться сначала должен ордер, который был поставлен раньше.\n",
    "\n",
    "Разные биржи предоставляют данные о торговле разной детализации. В рамках соревнования вы будете работать с так называемыми **L2-ордербуками**, в которых множество ордеров с одинаковой ценой агрегированы в одну строчку с суммарным объемом ордеров на этой цене (т.е. вы будете видеть \"просуммированные\" биды и аски, а не каждый бид и аск ордер в отдельности). \n"
   ]
  },
  {
   "cell_type": "markdown",
   "id": "08fbae31",
   "metadata": {
    "id": "08fbae31"
   },
   "source": [
    "\n",
    "# Высокочастотный трейдинг\n",
    "\n",
    "Высокочастотная торговля (или HFT, от High Frequency Trading) характеризуется большим числом торговых операций (прежде всего, большой частотой выставлений и отмен лимитных ордеров). Обычно возможность HFT-стратегии зарабатывать зависит от способности максимально быстро реагировать на движения на рынке. Глобально же всегда есть tradeoff между сложностью стратегии (например, способностью предсказывать поведение рынка) и ее скоростью.\n",
    "\n",
    "В HFT есть как минимум два ярко-выраженных вида торговли:\n",
    "\n",
    "1. Арбитраж\n",
    "\n",
    "В самом простом примере один и тот же актив может торговаться на разных биржах. Периодически возникают арбитражные возможности, когда можно купить его дешевле на одной бирже и продать дороже на другой. Прибыль тут сможет извлечь только тот, кто сделает это быстрее остальных.\n",
    "\n",
    "2. *Маркет-мейкинг*\n",
    "\n",
    "Заключается в предоставлении ликвидности бирже и является одной из ключевых функций HFT-компаний на рынке – о нем мы и поговорим подробнее.\n"
   ]
  },
  {
   "cell_type": "markdown",
   "id": "67e208e4",
   "metadata": {
    "id": "67e208e4"
   },
   "source": [
    "\n",
    "## Market making\n",
    "\n",
    "Любая биржа (как и участники торговли) заинтересована в том, чтобы рынок был как можно более *ликвидным*. Упрощенно говоря, на ликвидном рынке участники могут купить/продать актив по привлекательным для себя ценам достаточно быстро. Одним из признаков ликвидного рынка является маленький спред. При большом спреде лимитные ордера на покупку/продажу могут стоять в ордербуке достаточно долго без совершения каких-то сделок. Если же сделку необходимо совершить быстро, то кому-то необходимо пересечь этот большой спред (поставить ордер по невыгодной цене), что сулит финансовыми потерями.\n",
    "\n",
    "*Маркет-мейкер* --- это участник рынка, который обязуется перед биржей предоставлять ликвидность в обмен на более выгодные условия торговли. \n",
    "\n",
    "Рассмотрим произвольную сделку. Одной из сторон этой сделки выступает *мейкер* (**maker**), т.е. тот, чей лимитный ордер стоял в стакане до совершения сделки. Другой стороной сделки является *тейкер* (**taker**), т.е. тот, чей маркет-ордер (или лимитный ордер, пересекший спред) привел к совершению сделки.\n",
    "\n",
    "Можно сказать, что маркет-мейкер наполняет ордербук ордерами (*make* orderbook), предоставляя тем самым ликвидность, а тейкер эту ликвидность забирает. Именно поэтому биржи заинтересованы в привлечении маркет-мейкеров. \n",
    "\n",
    "Требований, которым должен удовлетворять маркет-мейкер, может быть много: так, *маркет-мейкер* должен гарантировать, что торгуемый им *мейкерский объем* будет составлять не менее x% от общего объема совершаемых сделок на бирже или, например, что спред не должен превышать указанную величину.  Поэтому маркет-мейкерами чаще всего являются крупные HFT-компании, и они обеспечивают основной объем торговли на рынках: по статистике более 80% сделок на фондовом рынке США совершаются именно при помощи торговых алгоритмов. \n",
    "\n"
   ]
  },
  {
   "cell_type": "markdown",
   "id": "f63c0e6f",
   "metadata": {
    "id": "f63c0e6f"
   },
   "source": [
    "\n",
    "## Дополнительные базовые понятия, которые будут полезны: \n",
    "\n",
    "Здесь и далее: P -- Price, V -- Volume, b -- Bid, a -- Ask. Кроме того, мы будем работать только с первыми уровнями ордербука (например, $P_a$ означает цену первого уровня аска).\n",
    "\n",
    "Начнем с понятия *спред* -- как упоминалось выше, маленький спред является признаком ликвидного рынка. Спред на одном активе обычно почти константен: если спред *разошелся* (стал больше этой константы), стоит ожидать его *смыкания* (возвращения к этой константе).\n",
    "$$S = P_a - P_b$$\n",
    "\n",
    "*Мидпрайс* -- как понятно из описания ордербука, у актива нет никакой одной цены -- есть цена на покупку и цена на продажу (best bid и best ask). Для удобства часто ценой актива называют полусумму лучшего аска и лучшего бида:\n",
    "$$P_{mid} =  \\frac{P_a + P_b}{2}$$\n",
    "\n",
    "*Return* -- величина, обозначающая разницу будущей (через окно $win$) и текущих цен: \n",
    "$$r_{now, win} = P_{now + win} - P_{now}$$ \n",
    "\n",
    "Проблема ретерна в том, что интуитивно понятно, что изменение цены на 10 долларов для акций стоимостью 100 и 1000 долларов -- совсем разные вещи. В связи с этим часто рассматривают *Log return*:$$lr_{now, win} = \\log{\\frac{P_{now+win}}{P_{now}}}$$\n",
    "\n"
   ]
  },
  {
   "cell_type": "markdown",
   "id": "c3f9ff31",
   "metadata": {
    "id": "c3f9ff31"
   },
   "source": [
    "## На что стоит смотреть в данных: \n",
    "\n",
    "Один из наиболее важных факторов для предсказания будущего -- текущее состояние ордербука, в том числе его **имбаланс** (разница между сторонами ордербука). Это понятие не строгое и формализовать его можно разными способами. Один из наиболее известных -- **Weighted Average Price (WAP)**: $$WAP = \\frac{P_bV_a+P_aV_b}{V_a+V_b}$$\n",
    "\n",
    "Также стоит помнить, что цена -- это не одно число, а целый временной ряд, уходящий в прошлое. Это дает возможность смотреть на различные метрики, связанные с временем. Примером такой метрики может служить **Moving Average** -- средний midprice за некоторое окно: $$MA_t = \\frac{\\sum_{i=0}^t P_{now-i}}{t+1}$$\n",
    "\n",
    "Также важной величиной является **волатильность** -- стандартное отклонение *ретернов*. Эта величина отражает, насколько интенсивно происходит движение актива, и в том числе помогает оценивать риски, связанные с его покупкой/продажей. Одним из ключевых свойств волатильности является ее **автокорреляция** -- то есть прошлая волатильность неплохо предсказывает будущую. Эту величину также можно формализовать различными способами, приведем пример одного из них:\n",
    "\n",
    "$$Vol_{t} = \\sqrt{\\frac{\\sum_{i=1}^{t} r^2_{now-i\\cdot win, win}}{t}}$$"
   ]
  },
  {
   "cell_type": "markdown",
   "id": "uNOaUjJDgGOA",
   "metadata": {
    "id": "uNOaUjJDgGOA"
   },
   "source": [
    "# Пример работы с данными\n"
   ]
  },
  {
   "cell_type": "code",
   "execution_count": 69,
   "id": "603c5d44",
   "metadata": {
    "ExecuteTime": {
     "end_time": "2024-03-28T06:47:56.450411Z",
     "start_time": "2024-03-28T06:47:56.445694Z"
    }
   },
   "outputs": [],
   "source": [
    "import pandas as pd\n",
    "import matplotlib.pyplot as plt\n",
    "import numpy as np\n",
    "from numba import njit\n",
    "from tqdm import tqdm"
   ]
  },
  {
   "cell_type": "code",
   "execution_count": 70,
   "id": "19c96bdc",
   "metadata": {
    "id": "19c96bdc",
    "outputId": "0053a0c2-79f7-4941-fc18-59a5c899ce34",
    "ExecuteTime": {
     "end_time": "2024-03-28T06:47:58.562070Z",
     "start_time": "2024-03-28T06:47:56.735485Z"
    }
   },
   "outputs": [
    {
     "name": "stderr",
     "output_type": "stream",
     "text": [
      "100%|██████████| 10/10 [00:00<00:00, 22.87it/s]\n",
      "100%|██████████| 3/3 [00:00<00:00, 29.19it/s]\n"
     ]
    }
   ],
   "source": [
    "data_dir = 'data_by_days'\n",
    "NUM_TRAIN_FILES = 10\n",
    "NUM_VAL_FILES = 3\n",
    "\n",
    "df_train_raw = pd.concat([pd.read_feather(f'{data_dir}/train_{i}.feather') for i in tqdm(range(NUM_TRAIN_FILES))]).set_index('timestamp')\n",
    "df_val_raw = pd.concat([pd.read_feather(f'{data_dir}/train_{i}.feather') for i in tqdm(range(NUM_TRAIN_FILES, NUM_TRAIN_FILES + NUM_VAL_FILES))]).set_index('timestamp')\n",
    "# df_train_raw = pd.read_feather(f'{data_dir}/train_0.feather')\n",
    "# df_val_raw = pd.read_feather(f'{data_dir}/train_1.feather')"
   ]
  },
  {
   "cell_type": "code",
   "execution_count": 71,
   "outputs": [],
   "source": [
    "@njit\n",
    "def get_future_price(ts, values, window):\n",
    "    price_pointer = 0\n",
    "    res = np.zeros(ts.size)\n",
    "    for X_pointer in range(len(ts)):\n",
    "        while price_pointer + 1 < len(ts) and ts[price_pointer] < ts[X_pointer] + window:\n",
    "            price_pointer += 1\n",
    "        res[X_pointer] = values[price_pointer]\n",
    "    return res"
   ],
   "metadata": {
    "collapsed": false,
    "ExecuteTime": {
     "end_time": "2024-03-28T06:47:58.569080Z",
     "start_time": "2024-03-28T06:47:58.563990Z"
    }
   },
   "id": "566328e3a7c9df87"
  },
  {
   "cell_type": "code",
   "execution_count": 72,
   "outputs": [],
   "source": [
    "@njit\n",
    "def get_past_price(ts, values, window):\n",
    "    price_pointer = len(ts) - 1\n",
    "    res = np.zeros(ts.size)\n",
    "    for X_pointer in range(len(ts) - 1, -1, -1):\n",
    "        while price_pointer - 1 >= 0 and ts[price_pointer] > ts[X_pointer] - window:\n",
    "            price_pointer -= 1\n",
    "        res[X_pointer] = values[price_pointer]\n",
    "    return res"
   ],
   "metadata": {
    "collapsed": false,
    "ExecuteTime": {
     "end_time": "2024-03-28T06:47:58.574717Z",
     "start_time": "2024-03-28T06:47:58.569580Z"
    }
   },
   "id": "bfe99fffbbd02763"
  },
  {
   "cell_type": "code",
   "execution_count": 88,
   "outputs": [],
   "source": [
    "def prepare_df(df_raw):\n",
    "    df = df_raw\n",
    "    # df = df.resample('500ms').ffill()\n",
    "    # df = df.dropna()\n",
    "    \n",
    "    print('Calculating mid prices...')\n",
    "    \n",
    "    df['spread'] = df['SANHOK_ask0_price'] - df['SANHOK_bid0_price']\n",
    "    df['price'] = df[['SANHOK_ask0_price', 'SANHOK_bid0_price']].mean(axis=1)\n",
    "    \n",
    "    df['01_dif'] = df[['SANHOK_ask1_price', 'SANHOK_bid1_price']].mean(axis=1) - df['price']\n",
    "    df['02_dif'] = df[['SANHOK_ask2_price', 'SANHOK_bid2_price']].mean(axis=1) - df['price']\n",
    "    df['03_dif'] = df[['SANHOK_ask3_price', 'SANHOK_bid3_price']].mean(axis=1) - df['price']\n",
    "    df['04_dif'] = df[['SANHOK_ask4_price', 'SANHOK_bid4_price']].mean(axis=1) - df['price']\n",
    "    \n",
    "    print('Calculating volatility...')\n",
    "    \n",
    "    df['5s_min'] = df['price'].rolling(window='5s', closed='both').min()\n",
    "    df['5s_max'] = df['price'].rolling(window='5s', closed='both').max()\n",
    "    df['5s_range'] = df['5s_max'] - df['5s_min']\n",
    "    df['5s_volatility'] = df['price'].rolling(window='5s', closed='both').std()\n",
    "    mean_val = df['5s_volatility'].mean()\n",
    "    df['5s_volatility'] = df['5s_volatility'].fillna(mean_val)\n",
    "    \n",
    "    print('Calculating time window differences...')\n",
    "    \n",
    "    ts = ((df.index - pd.to_datetime('1970-01-01')) // pd.Timedelta('1ns')).values\n",
    "    midprice = ((df.SANHOK_bid0_price + df.SANHOK_ask0_price) / 2).values\n",
    "    window = pd.Timedelta('500ms') // pd.Timedelta('1ns')\n",
    "    df['500ms_diff'] = get_past_price(ts, midprice, window) - midprice\n",
    "    df['1s_diff'] = get_past_price(ts, midprice, window * 2) - midprice\n",
    "    df['1.5s_diff'] = get_past_price(ts, midprice, window * 3) - midprice\n",
    "    \n",
    "    print('Calculating advanced metrics...')\n",
    "    \n",
    "    df['imbalance_0'] = (2 * df[f'SANHOK_bid0_qty'] * df['SANHOK_bid0_price']) / (df[f'SANHOK_bid0_qty'] + df[f'SANHOK_ask0_qty']) - midprice\n",
    "    df['imbalance_1'] = (2 * df[f'SANHOK_bid1_qty'] * df['SANHOK_bid1_price']) / (df[f'SANHOK_bid1_qty'] + df[f'SANHOK_ask1_qty']) - midprice\n",
    "    \n",
    "    df['time'] = ts\n",
    "    \n",
    "    conditions = [\n",
    "    df['SANHOK_bid0_qty'] < df['SANHOK_ask0_qty'],\n",
    "    df['SANHOK_bid0_qty'] > df['SANHOK_ask0_qty']\n",
    "    ]\n",
    "    choices = [\n",
    "        (df.SANHOK_bid1_price + df.SANHOK_ask0_price) / 2 - midprice,\n",
    "        (df.SANHOK_bid0_price + df.SANHOK_ask1_price) / 2 - midprice,\n",
    "    ]\n",
    "    default_choice = (df.SANHOK_bid1_price + df.SANHOK_ask1_price) / 2 - midprice\n",
    "    df['forecast'] = np.select(conditions, choices, default=default_choice)\n",
    "    \n",
    "    feature_names = ['spread', 'price',\n",
    "                     '01_dif', '02_dif', '03_dif', '04_dif',\n",
    "                     '5s_range', '5s_volatility',\n",
    "                     '500ms_diff', '1s_diff', '1.5s_diff',\n",
    "                     'imbalance_0', 'imbalance_1', 'time', 'forecast']\n",
    "    for i in range(3):\n",
    "        feature_names.append(f'SANHOK_bid{i}_qty')\n",
    "        feature_names.append(f'SANHOK_ask{i}_qty')\n",
    "    \n",
    "    return df[feature_names], df['target']"
   ],
   "metadata": {
    "collapsed": false,
    "ExecuteTime": {
     "end_time": "2024-03-28T06:57:45.254009Z",
     "start_time": "2024-03-28T06:57:45.129913Z"
    }
   },
   "id": "ffd586c697993ab1"
  },
  {
   "cell_type": "code",
   "execution_count": 89,
   "outputs": [
    {
     "name": "stdout",
     "output_type": "stream",
     "text": [
      "Calculating mid prices...\n",
      "Calculating volatility...\n",
      "Calculating time window differences...\n",
      "Calculating advanced metrics...\n",
      "Calculating mid prices...\n",
      "Calculating volatility...\n",
      "Calculating time window differences...\n",
      "Calculating advanced metrics...\n"
     ]
    }
   ],
   "source": [
    "X_train, y_train = prepare_df(df_train_raw)\n",
    "X_val, y_val = prepare_df(df_val_raw)"
   ],
   "metadata": {
    "collapsed": false,
    "ExecuteTime": {
     "end_time": "2024-03-28T06:57:46.968920Z",
     "start_time": "2024-03-28T06:57:45.720797Z"
    }
   },
   "id": "8a26c3c88e190ca3"
  },
  {
   "cell_type": "code",
   "execution_count": 92,
   "id": "1bf84c88",
   "metadata": {
    "colab": {
     "base_uri": "https://localhost:8080/",
     "height": 240
    },
    "id": "1bf84c88",
    "outputId": "bf658391-7a6a-41ee-bd86-e7143661434f",
    "ExecuteTime": {
     "end_time": "2024-03-28T07:12:31.667321Z",
     "start_time": "2024-03-28T07:10:26.901004Z"
    }
   },
   "outputs": [
    {
     "name": "stdout",
     "output_type": "stream",
     "text": [
      "r2_score =  0.15079013945711073\n"
     ]
    },
    {
     "ename": "KeyError",
     "evalue": "'lin_reg'",
     "output_type": "error",
     "traceback": [
      "\u001B[0;31m---------------------------------------------------------------------------\u001B[0m",
      "\u001B[0;31mKeyError\u001B[0m                                  Traceback (most recent call last)",
      "Cell \u001B[0;32mIn[92], line 21\u001B[0m\n\u001B[1;32m     18\u001B[0m \u001B[38;5;28mprint\u001B[39m(\u001B[38;5;124m'\u001B[39m\u001B[38;5;124mr2_score = \u001B[39m\u001B[38;5;124m'\u001B[39m, r2_score(y_train, y_pred))\n\u001B[1;32m     20\u001B[0m _, ax \u001B[38;5;241m=\u001B[39m plt\u001B[38;5;241m.\u001B[39msubplots()\n\u001B[0;32m---> 21\u001B[0m ax\u001B[38;5;241m.\u001B[39mbarh(X_train\u001B[38;5;241m.\u001B[39mcolumns, \u001B[43mmodel\u001B[49m\u001B[38;5;241;43m.\u001B[39;49m\u001B[43mnamed_steps\u001B[49m\u001B[43m[\u001B[49m\u001B[38;5;124;43m'\u001B[39;49m\u001B[38;5;124;43mlin_reg\u001B[39;49m\u001B[38;5;124;43m'\u001B[39;49m\u001B[43m]\u001B[49m\u001B[38;5;241m.\u001B[39mcoef_)\n\u001B[1;32m     23\u001B[0m ax\u001B[38;5;241m.\u001B[39mset_xlabel(\u001B[38;5;124m'\u001B[39m\u001B[38;5;124mWeights\u001B[39m\u001B[38;5;124m'\u001B[39m)\n\u001B[1;32m     24\u001B[0m ax\u001B[38;5;241m.\u001B[39mset_title(\u001B[38;5;124m'\u001B[39m\u001B[38;5;124mLinear Regression Weights Visualization\u001B[39m\u001B[38;5;124m'\u001B[39m)\n",
      "File \u001B[0;32m~/PycharmProjects/contest_ysda/venv/lib/python3.11/site-packages/sklearn/utils/_bunch.py:39\u001B[0m, in \u001B[0;36mBunch.__getitem__\u001B[0;34m(self, key)\u001B[0m\n\u001B[1;32m     34\u001B[0m \u001B[38;5;28;01mif\u001B[39;00m key \u001B[38;5;129;01min\u001B[39;00m \u001B[38;5;28mself\u001B[39m\u001B[38;5;241m.\u001B[39m\u001B[38;5;18m__dict__\u001B[39m\u001B[38;5;241m.\u001B[39mget(\u001B[38;5;124m\"\u001B[39m\u001B[38;5;124m_deprecated_key_to_warnings\u001B[39m\u001B[38;5;124m\"\u001B[39m, {}):\n\u001B[1;32m     35\u001B[0m     warnings\u001B[38;5;241m.\u001B[39mwarn(\n\u001B[1;32m     36\u001B[0m         \u001B[38;5;28mself\u001B[39m\u001B[38;5;241m.\u001B[39m_deprecated_key_to_warnings[key],\n\u001B[1;32m     37\u001B[0m         \u001B[38;5;167;01mFutureWarning\u001B[39;00m,\n\u001B[1;32m     38\u001B[0m     )\n\u001B[0;32m---> 39\u001B[0m \u001B[38;5;28;01mreturn\u001B[39;00m \u001B[38;5;28;43msuper\u001B[39;49m\u001B[43m(\u001B[49m\u001B[43m)\u001B[49m\u001B[38;5;241;43m.\u001B[39;49m\u001B[38;5;21;43m__getitem__\u001B[39;49m\u001B[43m(\u001B[49m\u001B[43mkey\u001B[49m\u001B[43m)\u001B[49m\n",
      "\u001B[0;31mKeyError\u001B[0m: 'lin_reg'"
     ]
    },
    {
     "data": {
      "text/plain": "<Figure size 640x480 with 1 Axes>",
      "image/png": "[encoded data removed]"
     },
     "metadata": {},
     "output_type": "display_data"
    }
   ],
   "source": [
    "from sklearn.pipeline import Pipeline\n",
    "from sklearn.linear_model import LinearRegression, Lasso\n",
    "from sklearn.neural_network import MLPRegressor\n",
    "from sklearn.preprocessing import StandardScaler\n",
    "from sklearn.ensemble import RandomForestRegressor, AdaBoostRegressor, HistGradientBoostingRegressor\n",
    "from sklearn.metrics import r2_score\n",
    "\n",
    "model = Pipeline([\n",
    "    ('scaler', StandardScaler()),\n",
    "    ('mlp', MLPRegressor(hidden_layer_sizes=(10,)))\n",
    "    # ('lin_reg', LinearRegression())\n",
    "    # ('rf', HistGradientBoostingRegressor(max_depth=3))\n",
    "])\n",
    "    \n",
    "model.fit(X_train, y_train)\n",
    "\n",
    "y_pred = model.predict(X_train)\n",
    "print('r2_score = ', r2_score(y_train, y_pred))\n",
    "\n",
    "_, ax = plt.subplots()\n",
    "ax.barh(X_train.columns, model.named_steps['lin_reg'].coef_)\n",
    "\n",
    "ax.set_xlabel('Weights')\n",
    "ax.set_title('Linear Regression Weights Visualization')\n",
    "\n",
    "plt.show()"
   ]
  },
  {
   "cell_type": "code",
   "execution_count": 91,
   "outputs": [
    {
     "name": "stdout",
     "output_type": "stream",
     "text": [
      "r2_score =  0.11019592127632505\n"
     ]
    }
   ],
   "source": [
    "y_pred = model.predict(X_val)\n",
    "print('r2_score = ', r2_score(y_val, y_pred))"
   ],
   "metadata": {
    "collapsed": false,
    "ExecuteTime": {
     "end_time": "2024-03-28T06:57:52.422373Z",
     "start_time": "2024-03-28T06:57:52.368112Z"
    }
   },
   "id": "ec888a7bfbe727c2"
  },
  {
   "cell_type": "code",
   "execution_count": null,
   "outputs": [],
   "source": [
    "y_pred = model.predict(df_prepared)\n",
    "print('r2_score = ', r2_score(df['target'], y_pred))"
   ],
   "metadata": {
    "collapsed": false,
    "ExecuteTime": {
     "end_time": "2024-03-28T06:45:24.105039Z",
     "start_time": "2024-03-28T06:45:24.100464Z"
    }
   },
   "id": "4c2d322a7740f7d1"
  },
  {
   "cell_type": "markdown",
   "id": "57b4fe8c",
   "metadata": {
    "id": "57b4fe8c",
    "ExecuteTime": {
     "start_time": "2024-03-26T08:00:43.738886Z"
    }
   },
   "source": [
    "Сделаем пробную посылку.\n",
    "\n",
    "Посылка состоит из двух частей:\n",
    "1. Вам нужно будет загрузить файл solution.py с функцией get_predict(df), которая будет использоваться для предсказания.\n",
    "2. Вы можете загрузить любые файлы, которые нужны вам для вашего предсказания.\n",
    "\n",
    "\n",
    "В нашем случае нам потребуется сохранить веса нашей линейной регрессии:"
   ]
  },
  {
   "cell_type": "code",
   "execution_count": null,
   "id": "e7bad64b",
   "metadata": {
    "id": "e7bad64b",
    "ExecuteTime": {
     "start_time": "2024-03-28T06:45:24.102850Z"
    }
   },
   "outputs": [],
   "source": [
    "np.save('coef.npy', model.coef_)"
   ]
  },
  {
   "cell_type": "markdown",
   "id": "d91c84e6",
   "metadata": {
    "id": "d91c84e6",
    "ExecuteTime": {
     "start_time": "2024-03-26T08:00:43.741259Z"
    }
   },
   "source": [
    "Файл solution.py в нашем случае будет выглядеть следующим образом:\n"
   ]
  },
  {
   "cell_type": "code",
   "execution_count": null,
   "id": "b27ffa2e",
   "metadata": {
    "id": "b27ffa2e",
    "ExecuteTime": {
     "start_time": "2024-03-28T06:45:24.105339Z"
    }
   },
   "outputs": [],
   "source": [
    "import numpy as np\n",
    "\n",
    "def get_predict(df):\n",
    "    lr_coef = np.load('coef.npy')\n",
    "    SANHOK_columns = []\n",
    "    for i in range(3):\n",
    "        SANHOK_columns.append(f'SANHOK_bid{i}_price')\n",
    "        SANHOK_columns.append(f'SANHOK_ask{i}_price')\n",
    "    y_pred = np.matmul(df[SANHOK_columns], lr_coef)\n",
    "    return y_pred\n"
   ]
  },
  {
   "attachments": {},
   "cell_type": "markdown",
   "id": "3436f787",
   "metadata": {
    "ExecuteTime": {
     "start_time": "2024-03-26T08:00:43.742430Z"
    }
   },
   "source": [
    "Проверить корректность полученной посылки вы можете, запустив следующую команду:"
   ]
  },
  {
   "cell_type": "code",
   "execution_count": null,
   "id": "3bccc1bc",
   "metadata": {
    "ExecuteTime": {
     "start_time": "2024-03-28T06:45:24.106600Z"
    }
   },
   "outputs": [],
   "source": [
    "!python3 pipeline.py --mode train"
   ]
  },
  {
   "attachments": {},
   "cell_type": "markdown",
   "id": "d1029cdb",
   "metadata": {
    "id": "d1029cdb",
    "ExecuteTime": {
     "start_time": "2024-03-26T08:00:43.743653Z"
    }
   },
   "source": [
    "Текущая посылка уже показывает скор 0.0436 на тестовых данных! Сможете ли вы улучшить этот результат?"
   ]
  },
  {
   "cell_type": "markdown",
   "id": "ca38c9ec",
   "metadata": {
    "ExecuteTime": {
     "end_time": "2024-03-26T07:56:09.677284Z",
     "start_time": "2024-03-26T07:56:04.586487Z"
    }
   },
   "source": []
  }
 ],
 "metadata": {
  "colab": {
   "provenance": []
  },
  "kernelspec": {
   "display_name": "Python 3 (ipykernel)",
   "language": "python",
   "name": "python3"
  },
  "language_info": {
   "codemirror_mode": {
    "name": "ipython",
    "version": 3
   },
   "file_extension": ".py",
   "mimetype": "text/x-python",
   "name": "python",
   "nbconvert_exporter": "python",
   "pygments_lexer": "ipython3",
   "version": "3.10.9"
  }
 },
 "nbformat": 4,
 "nbformat_minor": 5
}
