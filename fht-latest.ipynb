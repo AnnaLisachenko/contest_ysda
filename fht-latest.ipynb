{
 "metadata": {
  "colab": {
   "provenance": [],
   "gpuType": "T4",
   "mount_file_id": "1soMhSuli4JKXivU_ZLmu3n8yeTd0GE84",
   "authorship_tag": "ABX9TyNcxEQGUwgTstgstfLoFSui"
  },
  "kernelspec": {
   "name": "python3",
   "display_name": "Python 3",
   "language": "python"
  },
  "language_info": {
   "name": "python",
   "version": "3.10.13",
   "mimetype": "text/x-python",
   "codemirror_mode": {
    "name": "ipython",
    "version": 3
   },
   "pygments_lexer": "ipython3",
   "nbconvert_exporter": "python",
   "file_extension": ".py"
  },
  "accelerator": "GPU",
  "kaggle": {
   "accelerator": "nvidiaTeslaT4",
   "dataSources": [
    {
     "sourceId": 7959397,
     "sourceType": "datasetVersion",
     "datasetId": 4682050
    }
   ],
   "dockerImageVersionId": 30673,
   "isInternetEnabled": true,
   "language": "python",
   "sourceType": "notebook",
   "isGpuEnabled": true
  }
 },
 "nbformat_minor": 4,
 "nbformat": 4,
 "cells": [
  {
   "cell_type": "code",
   "source": [
    "import pandas as pd\n",
    "import matplotlib.pyplot as plt\n",
    "import numpy as np\n",
    "from numba import njit\n",
    "from tqdm import tqdm\n",
    "\n",
    "from sklearn.pipeline import Pipeline\n",
    "from sklearn.linear_model import LinearRegression, Lasso\n",
    "from sklearn.neural_network import MLPRegressor\n",
    "from sklearn.preprocessing import StandardScaler\n",
    "from sklearn.ensemble import RandomForestRegressor, AdaBoostRegressor, HistGradientBoostingRegressor\n",
    "from sklearn.metrics import r2_score"
   ],
   "metadata": {
    "id": "-eAuVwGsLKmK",
    "executionInfo": {
     "status": "ok",
     "timestamp": 1711560887331,
     "user_tz": -180,
     "elapsed": 2219,
     "user": {
      "displayName": "Anna Lisachenko",
      "userId": "02468641400863824289"
     }
    },
    "execution": {
     "iopub.status.busy": "2024-03-28T08:20:26.061259Z",
     "iopub.execute_input": "2024-03-28T08:20:26.061504Z",
     "iopub.status.idle": "2024-03-28T08:20:29.408057Z",
     "shell.execute_reply.started": "2024-03-28T08:20:26.061479Z",
     "shell.execute_reply": "2024-03-28T08:20:29.407268Z"
    },
    "trusted": true
   },
   "execution_count": 1,
   "outputs": []
  },
  {
   "cell_type": "code",
   "source": [
    "data_dir = '/kaggle/input/data-by-days/data_by_days'"
   ],
   "metadata": {
    "id": "I8em2MsEBTJd",
    "executionInfo": {
     "status": "ok",
     "timestamp": 1711560887331,
     "user_tz": -180,
     "elapsed": 11,
     "user": {
      "displayName": "Anna Lisachenko",
      "userId": "02468641400863824289"
     }
    },
    "execution": {
     "iopub.status.busy": "2024-03-28T08:20:29.410165Z",
     "iopub.execute_input": "2024-03-28T08:20:29.410753Z",
     "iopub.status.idle": "2024-03-28T08:20:29.414652Z",
     "shell.execute_reply.started": "2024-03-28T08:20:29.410714Z",
     "shell.execute_reply": "2024-03-28T08:20:29.413798Z"
    },
    "trusted": true
   },
   "execution_count": 2,
   "outputs": []
  },
  {
   "cell_type": "code",
   "source": [
    "NUM_TRAIN_FILES = 1\n",
    "NUM_VAL_FILES = 1\n",
    "\n",
    "df_train_raw = pd.concat([pd.read_feather(f'{data_dir}/train_{i}.feather') for i in tqdm(range(NUM_TRAIN_FILES))])\n",
    "df_val_raw = pd.concat([pd.read_feather(f'{data_dir}/train_{i}.feather') for i in tqdm(range(NUM_TRAIN_FILES, NUM_TRAIN_FILES + NUM_VAL_FILES))])\n",
    "\n",
    "df_train_raw = df_train_raw.set_index('timestamp')\n",
    "df_val_raw = df_val_raw.set_index('timestamp')"
   ],
   "metadata": {
    "colab": {
     "base_uri": "https://localhost:8080/"
    },
    "id": "1JkqRYUcLZgg",
    "executionInfo": {
     "status": "ok",
     "timestamp": 1711560887840,
     "user_tz": -180,
     "elapsed": 517,
     "user": {
      "displayName": "Anna Lisachenko",
      "userId": "02468641400863824289"
     }
    },
    "outputId": "be0fb628-8ec4-435d-d0a6-73fbf0e72a10",
    "execution": {
     "iopub.status.busy": "2024-03-28T08:20:29.415834Z",
     "iopub.execute_input": "2024-03-28T08:20:29.416149Z",
     "iopub.status.idle": "2024-03-28T08:20:29.846207Z",
     "shell.execute_reply.started": "2024-03-28T08:20:29.416120Z",
     "shell.execute_reply": "2024-03-28T08:20:29.845288Z"
    },
    "trusted": true
   },
   "execution_count": 3,
   "outputs": [
    {
     "name": "stderr",
     "text": "100%|██████████| 1/1 [00:00<00:00,  4.71it/s]\n100%|██████████| 1/1 [00:00<00:00,  6.83it/s]\n",
     "output_type": "stream"
    }
   ]
  },
  {
   "cell_type": "code",
   "source": [
    "@njit\n",
    "def get_past_price(ts, values, window):\n",
    "    price_pointer = len(ts) - 1\n",
    "    res = np.zeros(ts.size)\n",
    "    for X_pointer in range(len(ts) - 1, -1, -1):\n",
    "        while price_pointer - 1 >= 0 and ts[price_pointer] > ts[X_pointer] - window:\n",
    "            price_pointer -= 1\n",
    "        res[X_pointer] = values[price_pointer]\n",
    "        ok = price_pointer > 0\n",
    "    return res, ok"
   ],
   "metadata": {
    "id": "qX72s63R4o4j",
    "executionInfo": {
     "status": "ok",
     "timestamp": 1711560887840,
     "user_tz": -180,
     "elapsed": 5,
     "user": {
      "displayName": "Anna Lisachenko",
      "userId": "02468641400863824289"
     }
    },
    "execution": {
     "iopub.status.busy": "2024-03-28T08:20:29.848681Z",
     "iopub.execute_input": "2024-03-28T08:20:29.849449Z",
     "iopub.status.idle": "2024-03-28T08:20:29.968919Z",
     "shell.execute_reply.started": "2024-03-28T08:20:29.849423Z",
     "shell.execute_reply": "2024-03-28T08:20:29.968076Z"
    },
    "trusted": true
   },
   "execution_count": 4,
   "outputs": []
  },
  {
   "cell_type": "code",
   "source": [
    "def prepare_simple_df(df_raw):\n",
    "    df = df_raw\n",
    "    # df = df.resample('500ms').mean()\n",
    "    # df.fillna(method='ffill', inplace=True)\n",
    "\n",
    "    # print('Calculating mid prices...')\n",
    "\n",
    "    df['spread'] = df['SANHOK_ask0_price'] - df['SANHOK_bid0_price']\n",
    "    df['price'] = df[['SANHOK_ask0_price', 'SANHOK_bid0_price']].mean(axis=1)\n",
    "\n",
    "    df['01'] = df[['SANHOK_ask1_price', 'SANHOK_bid1_price']].mean(axis=1) - df['price']\n",
    "    df['02'] = df[['SANHOK_ask2_price', 'SANHOK_bid2_price']].mean(axis=1) - df['price']\n",
    "    df['03'] = df[['SANHOK_ask3_price', 'SANHOK_bid3_price']].mean(axis=1) - df['price']\n",
    "    df['04'] = df[['SANHOK_ask4_price', 'SANHOK_bid4_price']].mean(axis=1) - df['price']\n",
    "\n",
    "    # print('Calculating volatility...')\n",
    "\n",
    "    df['5s_min'] = df['price'].rolling(window='5s', closed='both').min()\n",
    "    df['5s_max'] = df['price'].rolling(window='5s', closed='both').max()\n",
    "    df['5s_range'] = df['5s_max'] - df['5s_min']\n",
    "    df['5s_volatility'] = df['price'].rolling(window='5s', closed='both').std()\n",
    "    mean_val = df['5s_volatility'].mean()\n",
    "    df['5s_volatility'] = df['5s_volatility'].fillna(mean_val)\n",
    "\n",
    "    # print('Calculating time window differences...')\n",
    "\n",
    "    ts = ((df.index - pd.to_datetime('1970-01-01')) // pd.Timedelta('1ns')).values\n",
    "    midprice = ((df.SANHOK_bid0_price + df.SANHOK_ask0_price) / 2).values\n",
    "    window = pd.Timedelta('500ms') // pd.Timedelta('1ns')\n",
    "\n",
    "    df['500ms_diff'] = get_past_price(ts, midprice, window)[0] - midprice\n",
    "    df['1s_diff'] = get_past_price(ts, midprice, window * 2)[0] - midprice\n",
    "    df['1.5s_diff'] = get_past_price(ts, midprice, window * 3)[0] - midprice\n",
    "    df['2s_diff'] = get_past_price(ts, midprice, window * 4)[0] - midprice\n",
    "    df['2.5s_diff'] = get_past_price(ts, midprice, window * 5)[0] - midprice\n",
    "\n",
    "    df['imbalance_0'] = (2 * df[f'SANHOK_bid0_qty'] * df['SANHOK_bid0_price']) / (df[f'SANHOK_bid0_qty'] + df[f'SANHOK_ask0_qty']) - midprice\n",
    "    df['imbalance_1'] = (2 * df[f'SANHOK_bid1_qty'] * df['SANHOK_bid1_price']) / (df[f'SANHOK_bid1_qty'] + df[f'SANHOK_ask1_qty']) - midprice\n",
    "    df['imbalance_2'] = (2 * df[f'SANHOK_bid2_qty'] * df['SANHOK_bid2_price']) / (df[f'SANHOK_bid2_qty'] + df[f'SANHOK_ask2_qty']) - midprice\n",
    "    \n",
    "    df['time'] = ts\n",
    "    \n",
    "    conditions = [\n",
    "    df['SANHOK_bid0_qty'] < df['SANHOK_ask0_qty'],\n",
    "    df['SANHOK_bid0_qty'] > df['SANHOK_ask0_qty']\n",
    "    ]\n",
    "    choices = [\n",
    "        (df.SANHOK_bid1_price + df.SANHOK_ask0_price) / 2 - midprice,\n",
    "        (df.SANHOK_bid0_price + df.SANHOK_ask1_price) / 2 - midprice,\n",
    "    ]\n",
    "    default_choice = (df.SANHOK_bid1_price + df.SANHOK_ask1_price) / 2 - midprice\n",
    "    df['forecast'] = np.select(conditions, choices, default=default_choice)\n",
    "\n",
    "    feature_names = ['spread', 'price',\n",
    "                     '01', '02', '03', '04',\n",
    "                     '500ms_diff', '1s_diff', '1.5s_diff', '2s_diff', '2.5s_diff',\n",
    "                     '5s_range', '5s_volatility',\n",
    "                     'imbalance_0', 'imbalance_1', 'imbalance_2',\n",
    "                     'time', 'forecast']\n",
    "\n",
    "    for i in [2, 1, 0]:\n",
    "        feature_names.append(f'SANHOK_bid{i}_qty')\n",
    "        feature_names.append(f'SANHOK_ask{i}_qty')\n",
    "\n",
    "    return df[feature_names], df['target']"
   ],
   "metadata": {
    "id": "2W_xQQ3tLd7R",
    "executionInfo": {
     "status": "ok",
     "timestamp": 1711560887841,
     "user_tz": -180,
     "elapsed": 5,
     "user": {
      "displayName": "Anna Lisachenko",
      "userId": "02468641400863824289"
     }
    },
    "execution": {
     "iopub.status.busy": "2024-03-28T08:20:29.970229Z",
     "iopub.execute_input": "2024-03-28T08:20:29.970580Z",
     "iopub.status.idle": "2024-03-28T08:20:29.988478Z",
     "shell.execute_reply.started": "2024-03-28T08:20:29.970549Z",
     "shell.execute_reply": "2024-03-28T08:20:29.987526Z"
    },
    "trusted": true
   },
   "execution_count": 5,
   "outputs": []
  },
  {
   "cell_type": "code",
   "source": [
    "X_train, y_train = prepare_simple_df(df_train_raw)\n",
    "X_val, y_val = prepare_simple_df(df_val_raw)\n",
    "\n",
    "X_train.shape"
   ],
   "metadata": {
    "colab": {
     "base_uri": "https://localhost:8080/"
    },
    "id": "6NHJOVJULi0Q",
    "executionInfo": {
     "status": "ok",
     "timestamp": 1711560890948,
     "user_tz": -180,
     "elapsed": 3111,
     "user": {
      "displayName": "Anna Lisachenko",
      "userId": "02468641400863824289"
     }
    },
    "outputId": "fb2a215c-5bc8-40ed-a3d9-bce8c9e33985",
    "execution": {
     "iopub.status.busy": "2024-03-28T08:20:29.989794Z",
     "iopub.execute_input": "2024-03-28T08:20:29.990111Z",
     "iopub.status.idle": "2024-03-28T08:20:31.372538Z",
     "shell.execute_reply.started": "2024-03-28T08:20:29.990082Z",
     "shell.execute_reply": "2024-03-28T08:20:31.371687Z"
    },
    "trusted": true
   },
   "execution_count": 6,
   "outputs": [
    {
     "execution_count": 6,
     "output_type": "execute_result",
     "data": {
      "text/plain": "(129111, 24)"
     },
     "metadata": {}
    }
   ]
  },
  {
   "cell_type": "code",
   "source": [
    "model = Pipeline([\n",
    "    ('scaler', StandardScaler()),\n",
    "    # ('mlp', MLPRegressor(hidden_layer_sizes=(10,)))\n",
    "    ('lin_reg', LinearRegression())\n",
    "    # ('rf', HistGradientBoostingRegressor(max_depth=3))\n",
    "])\n",
    "\n",
    "model.fit(X_train, y_train)\n",
    "\n",
    "y_pred = model.predict(X_train)\n",
    "print('r2_score = ', r2_score(y_train, y_pred))\n",
    "\n",
    "_, ax = plt.subplots()\n",
    "ax.barh(X_train.columns, model.named_steps['lin_reg'].coef_)\n",
    "\n",
    "ax.set_xlabel('Weights')\n",
    "ax.set_title('Linear Regression Weights Visualization')\n",
    "\n",
    "plt.show()"
   ],
   "metadata": {
    "colab": {
     "base_uri": "https://localhost:8080/",
     "height": 488
    },
    "id": "K8ZU8c285Ftb",
    "executionInfo": {
     "status": "ok",
     "timestamp": 1711560892183,
     "user_tz": -180,
     "elapsed": 1240,
     "user": {
      "displayName": "Anna Lisachenko",
      "userId": "02468641400863824289"
     }
    },
    "outputId": "060ef2b1-0c96-4c98-a6b9-ebf37222ef4e",
    "execution": {
     "iopub.status.busy": "2024-03-28T08:20:31.373869Z",
     "iopub.execute_input": "2024-03-28T08:20:31.374218Z",
     "iopub.status.idle": "2024-03-28T08:20:32.110256Z",
     "shell.execute_reply.started": "2024-03-28T08:20:31.374186Z",
     "shell.execute_reply": "2024-03-28T08:20:32.109379Z"
    },
    "trusted": true
   },
   "execution_count": 7,
   "outputs": [
    {
     "name": "stdout",
     "text": "r2_score =  0.10881907592565354\n",
     "output_type": "stream"
    },
    {
     "output_type": "display_data",
     "data": {
      "text/plain": "<Figure size 640x480 with 1 Axes>",
      "image/png": "[encoded data removed]"
     },
     "metadata": {}
    }
   ]
  },
  {
   "cell_type": "code",
   "source": [
    "y_pred = model.predict(X_val)\n",
    "print('r2_score = ', r2_score(y_val, y_pred))"
   ],
   "metadata": {
    "colab": {
     "base_uri": "https://localhost:8080/"
    },
    "id": "N-35_6AHLq5u",
    "executionInfo": {
     "status": "ok",
     "timestamp": 1711560892183,
     "user_tz": -180,
     "elapsed": 9,
     "user": {
      "displayName": "Anna Lisachenko",
      "userId": "02468641400863824289"
     }
    },
    "outputId": "91d17d17-82e7-4a46-f3ed-bd5264e01094",
    "execution": {
     "iopub.status.busy": "2024-03-28T08:20:32.111381Z",
     "iopub.execute_input": "2024-03-28T08:20:32.111663Z",
     "iopub.status.idle": "2024-03-28T08:20:32.149874Z",
     "shell.execute_reply.started": "2024-03-28T08:20:32.111639Z",
     "shell.execute_reply": "2024-03-28T08:20:32.148657Z"
    },
    "trusted": true
   },
   "execution_count": 8,
   "outputs": [
    {
     "name": "stdout",
     "text": "r2_score =  0.12396984287923174\n",
     "output_type": "stream"
    }
   ]
  },
  {
   "cell_type": "code",
   "source": [
    "NUM_TRAIN = 50\n",
    "NUM_VAL = 10\n",
    "\n",
    "Xs = []\n",
    "ys = []\n",
    "\n",
    "for i in tqdm(range(NUM_TRAIN)):\n",
    "    df = pd.read_feather(f'{data_dir}/train_{i}.feather').set_index('timestamp')\n",
    "    X, y = prepare_simple_df(df)\n",
    "    Xs.append(X)\n",
    "    ys.append(y)\n",
    "\n",
    "X_train = pd.concat(Xs).values\n",
    "y_train = pd.concat(ys).values.reshape(-1, 1)\n",
    "\n",
    "Xs = []\n",
    "ys = []\n",
    "\n",
    "for i in tqdm(range(NUM_TRAIN, NUM_TRAIN + NUM_VAL)):\n",
    "    df = pd.read_feather(f'{data_dir}/train_{i}.feather').set_index('timestamp')\n",
    "    X, y = prepare_simple_df(df)\n",
    "    Xs.append(X)\n",
    "    ys.append(y)\n",
    "\n",
    "X_val= pd.concat(Xs).values\n",
    "y_val = pd.concat(ys).values.reshape(-1, 1)"
   ],
   "metadata": {
    "colab": {
     "base_uri": "https://localhost:8080/"
    },
    "id": "yTFZvkDK8DoR",
    "executionInfo": {
     "status": "ok",
     "timestamp": 1711563420686,
     "user_tz": -180,
     "elapsed": 88086,
     "user": {
      "displayName": "Anna Lisachenko",
      "userId": "02468641400863824289"
     }
    },
    "outputId": "90a348cf-04b5-4669-8725-d0daae0da043",
    "execution": {
     "iopub.status.busy": "2024-03-28T08:20:32.151426Z",
     "iopub.execute_input": "2024-03-28T08:20:32.151862Z",
     "iopub.status.idle": "2024-03-28T08:20:53.009715Z",
     "shell.execute_reply.started": "2024-03-28T08:20:32.151829Z",
     "shell.execute_reply": "2024-03-28T08:20:53.008759Z"
    },
    "trusted": true
   },
   "execution_count": 9,
   "outputs": [
    {
     "name": "stderr",
     "text": "100%|██████████| 50/50 [00:16<00:00,  2.99it/s]\n100%|██████████| 10/10 [00:03<00:00,  3.06it/s]\n",
     "output_type": "stream"
    }
   ]
  },
  {
   "cell_type": "code",
   "source": [
    "X_train.shape"
   ],
   "metadata": {
    "colab": {
     "base_uri": "https://localhost:8080/"
    },
    "id": "iaGJwICJChNY",
    "executionInfo": {
     "status": "ok",
     "timestamp": 1711563420686,
     "user_tz": -180,
     "elapsed": 9,
     "user": {
      "displayName": "Anna Lisachenko",
      "userId": "02468641400863824289"
     }
    },
    "outputId": "dbf19419-83fe-4e49-fd00-5b7114a51d15",
    "execution": {
     "iopub.status.busy": "2024-03-28T08:20:53.012752Z",
     "iopub.execute_input": "2024-03-28T08:20:53.013037Z",
     "iopub.status.idle": "2024-03-28T08:20:53.018535Z",
     "shell.execute_reply.started": "2024-03-28T08:20:53.013013Z",
     "shell.execute_reply": "2024-03-28T08:20:53.017678Z"
    },
    "trusted": true
   },
   "execution_count": 10,
   "outputs": [
    {
     "execution_count": 10,
     "output_type": "execute_result",
     "data": {
      "text/plain": "(6740439, 24)"
     },
     "metadata": {}
    }
   ]
  },
  {
   "cell_type": "code",
   "source": [
    "import torch\n",
    "import torch.nn as nn\n",
    "import torch.optim as optim\n",
    "from sklearn.model_selection import train_test_split\n",
    "from torch.utils.data import DataLoader, TensorDataset, Dataset"
   ],
   "metadata": {
    "id": "Lw-Z6uVPzrB1",
    "executionInfo": {
     "status": "ok",
     "timestamp": 1711563420686,
     "user_tz": -180,
     "elapsed": 3,
     "user": {
      "displayName": "Anna Lisachenko",
      "userId": "02468641400863824289"
     }
    },
    "execution": {
     "iopub.status.busy": "2024-03-28T08:20:53.019674Z",
     "iopub.execute_input": "2024-03-28T08:20:53.019953Z",
     "iopub.status.idle": "2024-03-28T08:20:57.217631Z",
     "shell.execute_reply.started": "2024-03-28T08:20:53.019931Z",
     "shell.execute_reply": "2024-03-28T08:20:57.216673Z"
    },
    "trusted": true
   },
   "execution_count": 11,
   "outputs": []
  },
  {
   "cell_type": "code",
   "source": [
    "class CustomBatchDataset(Dataset):\n",
    "    def __init__(self, features, labels, batch_size):\n",
    "        \"\"\"\n",
    "        Initialization of the dataset.\n",
    "        :param features: A 3D tensor containing the features.\n",
    "        :param labels: A tensor containing the labels.\n",
    "        :param batch_size: The size of each batch.\n",
    "        \"\"\"\n",
    "        self.features = features\n",
    "        self.labels = labels\n",
    "        self.batch_size = batch_size\n",
    "        self.n_samples = features.shape[0]\n",
    "\n",
    "    def __len__(self):\n",
    "        \"\"\"\n",
    "        Returns the number of batches in the dataset.\n",
    "        \"\"\"\n",
    "        return (self.n_samples + self.batch_size - 1) // self.batch_size\n",
    "\n",
    "    def __getitem__(self, index):\n",
    "        \"\"\"\n",
    "        Generates one batch of data.\n",
    "        :param index: The index of the batch to return.\n",
    "        \"\"\"\n",
    "        start = index * self.batch_size\n",
    "        end = min((index + 1) * self.batch_size, self.n_samples)\n",
    "        \n",
    "        X = self.features[start:end]\n",
    "        y = self.labels[start:end]\n",
    "\n",
    "        return X, y"
   ],
   "metadata": {
    "execution": {
     "iopub.status.busy": "2024-03-28T08:20:57.218812Z",
     "iopub.execute_input": "2024-03-28T08:20:57.219272Z",
     "iopub.status.idle": "2024-03-28T08:20:57.228202Z",
     "shell.execute_reply.started": "2024-03-28T08:20:57.219245Z",
     "shell.execute_reply": "2024-03-28T08:20:57.227208Z"
    },
    "trusted": true
   },
   "execution_count": 12,
   "outputs": []
  },
  {
   "cell_type": "code",
   "source": [
    "class SimpleRegressionNN(nn.Module):\n",
    "    def __init__(self, input_size, hidden, tail_size):\n",
    "        super().__init__()\n",
    "        self.fc11 = nn.Linear(input_size - tail_size, hidden)\n",
    "        self.relu = nn.ReLU()\n",
    "        self.fc12 = nn.Linear(hidden, 1)\n",
    "        self.fc2 = nn.Linear(tail_size, 1)\n",
    "        # self.alpha = nn.Parameter(torch.tensor(1, dtype=torch.float32), requires_grad=True)\n",
    "        self.tail_size = tail_size\n",
    "\n",
    "    def forward(self, x):\n",
    "        if self.tail_size > 0:\n",
    "            first = self.relu(self.fc11(x[:, :-self.tail_size]))\n",
    "            first = self.fc12(first)\n",
    "            second = self.fc2(x[:, -self.tail_size:])\n",
    "            return first * (1 + second)\n",
    "        else:\n",
    "            first = self.relu(self.fc11(x))\n",
    "            first = self.fc12(first)\n",
    "            return first"
   ],
   "metadata": {
    "execution": {
     "iopub.status.busy": "2024-03-28T08:20:57.229598Z",
     "iopub.execute_input": "2024-03-28T08:20:57.229903Z",
     "iopub.status.idle": "2024-03-28T08:20:57.237702Z",
     "shell.execute_reply.started": "2024-03-28T08:20:57.229872Z",
     "shell.execute_reply": "2024-03-28T08:20:57.236830Z"
    },
    "trusted": true
   },
   "execution_count": 13,
   "outputs": []
  },
  {
   "cell_type": "code",
   "source": [
    "scaler = StandardScaler()\n",
    "X_train_scaled = scaler.fit_transform(X_train)\n",
    "X_val_scaled = scaler.transform(X_val)\n",
    "\n",
    "device = torch.device(\"cuda\" if torch.cuda.is_available() else \"cpu\")\n",
    "\n",
    "# Convert to torch tensors\n",
    "X_train_tensor = torch.tensor(X_train_scaled, dtype=torch.float32)\n",
    "y_train_tensor = torch.tensor(y_train, dtype=torch.float32)\n",
    "X_val_tensor = torch.tensor(X_val_scaled, dtype=torch.float32)\n",
    "y_val_tensor = torch.tensor(y_val, dtype=torch.float32)\n",
    "\n",
    "BATCH_SIZE = 100000\n",
    "\n",
    "train_data = DataLoader(CustomBatchDataset(X_train_tensor, y_train_tensor, BATCH_SIZE), batch_size=1, shuffle=False, num_workers=4, prefetch_factor=10)\n",
    "val_data = DataLoader(CustomBatchDataset(X_val_tensor, y_val_tensor, BATCH_SIZE), batch_size=1, shuffle=False, num_workers=4, prefetch_factor=10)\n",
    "\n",
    "# 2. Define the model\n",
    "class RegressionNN(nn.Module):\n",
    "    def __init__(self, input_size, hidden_1, hidden_2, tail_size):\n",
    "        super(RegressionNN, self).__init__()\n",
    "        self.fc11 = nn.Linear(input_size - tail_size, hidden_1)\n",
    "        self.relu = nn.ReLU()\n",
    "        self.fc12 = nn.Linear(hidden_1, hidden_2)\n",
    "        self.fc13 = nn.Linear(hidden_2, 1)\n",
    "        self.fc2 = nn.Linear(tail_size, 1)\n",
    "        # self.alpha = nn.Parameter(torch.tensor(1, dtype=torch.float32), requires_grad=True)\n",
    "        self.tail_size = tail_size\n",
    "\n",
    "    def forward(self, x):\n",
    "        if self.tail_size > 0:\n",
    "            first = self.relu(self.fc11(x[:, :-self.tail_size]))\n",
    "            first = self.relu(self.fc12(first))\n",
    "            first = self.fc13(first)\n",
    "            second = self.fc2(x[:, -self.tail_size:])\n",
    "            return first * (1 + second)\n",
    "        else:\n",
    "            first = self.relu(self.fc11(x))\n",
    "            first = self.relu(self.fc12(first))\n",
    "            first = self.fc13(first)\n",
    "            return first\n",
    "\n",
    "print(device)\n",
    "model = SimpleRegressionNN(X_train.shape[1], 50, 2).to(device)"
   ],
   "metadata": {
    "colab": {
     "base_uri": "https://localhost:8080/"
    },
    "id": "hFOxBPUcIlWq",
    "executionInfo": {
     "status": "ok",
     "timestamp": 1711563531684,
     "user_tz": -180,
     "elapsed": 366,
     "user": {
      "displayName": "Anna Lisachenko",
      "userId": "02468641400863824289"
     }
    },
    "outputId": "8c1a6faa-b70f-4886-bec0-056bb3747a38",
    "execution": {
     "iopub.status.busy": "2024-03-28T08:20:57.238849Z",
     "iopub.execute_input": "2024-03-28T08:20:57.239111Z",
     "iopub.status.idle": "2024-03-28T08:20:59.979718Z",
     "shell.execute_reply.started": "2024-03-28T08:20:57.239077Z",
     "shell.execute_reply": "2024-03-28T08:20:59.978750Z"
    },
    "trusted": true
   },
   "execution_count": 14,
   "outputs": [
    {
     "name": "stdout",
     "text": "cuda\n",
     "output_type": "stream"
    }
   ]
  },
  {
   "cell_type": "code",
   "source": [
    "# 3. Training pipeline\n",
    "optimizer = optim.Adam(model.parameters())\n",
    "criterion = nn.MSELoss()\n",
    "\n",
    "for epoch in range(200): # number of epochs\n",
    "    model.train()\n",
    "    actuals = []\n",
    "    predictions = []\n",
    "    for inputs, targets in train_data:\n",
    "        inputs, targets = inputs.to(device).squeeze(0), targets.to(device).squeeze(0)\n",
    "\n",
    "        optimizer.zero_grad()\n",
    "        outputs = model(inputs)\n",
    "        loss = criterion(outputs, targets)\n",
    "        loss.backward()\n",
    "        optimizer.step()\n",
    "        actuals.extend(targets.cpu().numpy())\n",
    "        predictions.extend(outputs.detach().cpu().numpy())\n",
    "    train_r2_score = r2_score(actuals, predictions)\n",
    "\n",
    "    # 4. Validation pipeline\n",
    "    model.eval()\n",
    "    actuals = []\n",
    "    predictions = []\n",
    "    with torch.no_grad():\n",
    "        val_loss = 0\n",
    "        for inputs, targets in val_data:\n",
    "            inputs, targets = inputs.to(device).squeeze(0), targets.to(device).squeeze(0)\n",
    "            outputs = model(inputs)\n",
    "            val_loss += criterion(outputs, targets).item()\n",
    "            actuals.extend(targets.cpu().numpy())\n",
    "            predictions.extend(outputs.cpu().numpy())\n",
    "    val_r2_score = r2_score(actuals, predictions)\n",
    "    print(f'Epoch {epoch}, Loss: {loss.item()}, Val Loss: {val_loss / len(val_data)}, Train R2 Score: {train_r2_score}, Val R2 Score: {val_r2_score}')"
   ],
   "metadata": {
    "colab": {
     "base_uri": "https://localhost:8080/"
    },
    "id": "a8gsMPqV5KUY",
    "outputId": "ca432877-c5ac-4782-ae1b-5aafb9572c9e",
    "execution": {
     "iopub.status.busy": "2024-03-28T08:20:59.980906Z",
     "iopub.execute_input": "2024-03-28T08:20:59.981194Z"
    },
    "trusted": true
   },
   "execution_count": null,
   "outputs": [
    {
     "name": "stdout",
     "text": "Epoch 0, Loss: 1.5040221214294434, Val Loss: 1.7781723737716675, Train R2 Score: 0.020860388113793538, Val R2 Score: 0.043648098626593024\nEpoch 1, Loss: 1.4469579458236694, Val Loss: 1.7577377557754517, Train R2 Score: 0.059934273295551344, Val R2 Score: 0.054812205274597514\nEpoch 2, Loss: 1.4175881147384644, Val Loss: 1.7419848442077637, Train R2 Score: 0.07496663342600884, Val R2 Score: 0.06329855683383001\nEpoch 3, Loss: 1.3906302452087402, Val Loss: 1.7274357165609087, Train R2 Score: 0.08539191754068676, Val R2 Score: 0.07110398348293523\nEpoch 4, Loss: 1.3618357181549072, Val Loss: 1.714389715875898, Train R2 Score: 0.09363021723336051, Val R2 Score: 0.07810530292662021\nEpoch 5, Loss: 1.3328824043273926, Val Loss: 1.7028638890811376, Train R2 Score: 0.10038760986295603, Val R2 Score: 0.08429966351714346\nEpoch 6, Loss: 1.3058860301971436, Val Loss: 1.6926801630428858, Train R2 Score: 0.10606065187474689, Val R2 Score: 0.08977734048128772\nEpoch 7, Loss: 1.2808380126953125, Val Loss: 1.6837500844682967, Train R2 Score: 0.11088328025437488, Val R2 Score: 0.09458609431264398\nEpoch 8, Loss: 1.2592525482177734, Val Loss: 1.6761118854795183, Train R2 Score: 0.11497265465596318, Val R2 Score: 0.09870089733471377\nEpoch 9, Loss: 1.2407163381576538, Val Loss: 1.6695775559970312, Train R2 Score: 0.1184409038600095, Val R2 Score: 0.10222153910917853\nEpoch 10, Loss: 1.225882649421692, Val Loss: 1.6640961170196533, Train R2 Score: 0.12137806297178078, Val R2 Score: 0.1051777005667035\nEpoch 11, Loss: 1.2146035432815552, Val Loss: 1.659532104219709, Train R2 Score: 0.12387267061706342, Val R2 Score: 0.10764388729034957\nEpoch 12, Loss: 1.2065627574920654, Val Loss: 1.6557685562542506, Train R2 Score: 0.1259963264761058, Val R2 Score: 0.10968085741746281\nEpoch 13, Loss: 1.2013137340545654, Val Loss: 1.6527385115623474, Train R2 Score: 0.12777751106215518, Val R2 Score: 0.11132146289974387\nEpoch 14, Loss: 1.1980880498886108, Val Loss: 1.6502908979143416, Train R2 Score: 0.12925564702639014, Val R2 Score: 0.11264565426153361\nEpoch 15, Loss: 1.1963245868682861, Val Loss: 1.6483237828527177, Train R2 Score: 0.13048774901874238, Val R2 Score: 0.11370790898971816\nEpoch 16, Loss: 1.195365309715271, Val Loss: 1.6467309764453344, Train R2 Score: 0.1315162385470786, Val R2 Score: 0.11456717648734438\nEpoch 17, Loss: 1.1948938369750977, Val Loss: 1.6454214283398219, Train R2 Score: 0.13236619015922646, Val R2 Score: 0.11527199023946488\nEpoch 18, Loss: 1.1945847272872925, Val Loss: 1.644338003226689, Train R2 Score: 0.1330841654723931, Val R2 Score: 0.11585500934086979\nEpoch 19, Loss: 1.194532871246338, Val Loss: 1.6434845668928963, Train R2 Score: 0.13370332935570117, Val R2 Score: 0.11631283780298984\nEpoch 20, Loss: 1.1944273710250854, Val Loss: 1.642769719873156, Train R2 Score: 0.1342494758496171, Val R2 Score: 0.11669601706355004\nEpoch 21, Loss: 1.1942903995513916, Val Loss: 1.6421005811010088, Train R2 Score: 0.13474688422629333, Val R2 Score: 0.1170531975314697\nEpoch 22, Loss: 1.1941227912902832, Val Loss: 1.6415031467165266, Train R2 Score: 0.13521287888172473, Val R2 Score: 0.11737199683961941\nEpoch 23, Loss: 1.193880558013916, Val Loss: 1.6409977333886283, Train R2 Score: 0.13566221068921092, Val R2 Score: 0.11764249362046664\nEpoch 24, Loss: 1.1936335563659668, Val Loss: 1.6404828684670585, Train R2 Score: 0.13609167422646706, Val R2 Score: 0.11791829932330711\nEpoch 25, Loss: 1.1933836936950684, Val Loss: 1.6400097864014762, Train R2 Score: 0.13650659419792877, Val R2 Score: 0.1181708390482068\nEpoch 26, Loss: 1.1931121349334717, Val Loss: 1.6395960535321916, Train R2 Score: 0.13689450199772013, Val R2 Score: 0.1183919023608061\nEpoch 27, Loss: 1.1928476095199585, Val Loss: 1.639190869671958, Train R2 Score: 0.1372684237329017, Val R2 Score: 0.11860865049465874\nEpoch 28, Loss: 1.192535638809204, Val Loss: 1.6387969510895866, Train R2 Score: 0.13762762403955975, Val R2 Score: 0.1188195756938265\nEpoch 29, Loss: 1.1921160221099854, Val Loss: 1.638413599559239, Train R2 Score: 0.1379776200986802, Val R2 Score: 0.11902443267919993\nEpoch 30, Loss: 1.191701889038086, Val Loss: 1.638052829674312, Train R2 Score: 0.13831113127545902, Val R2 Score: 0.11921726039949088\nEpoch 31, Loss: 1.1912429332733154, Val Loss: 1.6376643180847168, Train R2 Score: 0.13864317487104882, Val R2 Score: 0.1194254538095656\nEpoch 32, Loss: 1.1908831596374512, Val Loss: 1.637272298336029, Train R2 Score: 0.13896614080932557, Val R2 Score: 0.11963464964756931\nEpoch 33, Loss: 1.1904093027114868, Val Loss: 1.6368661608014787, Train R2 Score: 0.13928400199893998, Val R2 Score: 0.11985163500329099\nEpoch 34, Loss: 1.1899064779281616, Val Loss: 1.6364771212850298, Train R2 Score: 0.13959241018393698, Val R2 Score: 0.12005988212830643\nEpoch 35, Loss: 1.189434289932251, Val Loss: 1.6361533829144068, Train R2 Score: 0.1398968272344855, Val R2 Score: 0.1202342552814245\nEpoch 36, Loss: 1.1890071630477905, Val Loss: 1.6358101538249425, Train R2 Score: 0.1401912402521066, Val R2 Score: 0.12041890865935179\nEpoch 37, Loss: 1.1885892152786255, Val Loss: 1.6354752012661524, Train R2 Score: 0.14048170760748913, Val R2 Score: 0.12059851644375497\nEpoch 38, Loss: 1.188246488571167, Val Loss: 1.635115614959172, Train R2 Score: 0.140757146884969, Val R2 Score: 0.12079133632560357\nEpoch 39, Loss: 1.1878517866134644, Val Loss: 1.6347597411700658, Train R2 Score: 0.1410224214807232, Val R2 Score: 0.12098181880881886\nEpoch 40, Loss: 1.1874358654022217, Val Loss: 1.6344037907464164, Train R2 Score: 0.14127692722683294, Val R2 Score: 0.12117226286175742\nEpoch 41, Loss: 1.1870657205581665, Val Loss: 1.634059991155352, Train R2 Score: 0.14152555348289975, Val R2 Score: 0.12135661480556614\nEpoch 42, Loss: 1.1867504119873047, Val Loss: 1.6337164725576128, Train R2 Score: 0.14176420512814836, Val R2 Score: 0.12154086646167794\nEpoch 43, Loss: 1.1863640546798706, Val Loss: 1.633380310876029, Train R2 Score: 0.14200478900538127, Val R2 Score: 0.12172159683159667\nEpoch 44, Loss: 1.1859956979751587, Val Loss: 1.6330313001360213, Train R2 Score: 0.1422366075082785, Val R2 Score: 0.1219080614257394\nEpoch 45, Loss: 1.1855729818344116, Val Loss: 1.6326981357165746, Train R2 Score: 0.14246357670667975, Val R2 Score: 0.12208674916204876\nEpoch 46, Loss: 1.1851481199264526, Val Loss: 1.6324178065572466, Train R2 Score: 0.14267804400368844, Val R2 Score: 0.12223667723170528\nEpoch 47, Loss: 1.1847251653671265, Val Loss: 1.6321610042027064, Train R2 Score: 0.14287968716996946, Val R2 Score: 0.12237358283825572\nEpoch 48, Loss: 1.184403657913208, Val Loss: 1.6318882022585188, Train R2 Score: 0.1430775086974292, Val R2 Score: 0.12251898541203388\nEpoch 49, Loss: 1.1840897798538208, Val Loss: 1.6316203730446952, Train R2 Score: 0.14327051346062492, Val R2 Score: 0.12266149622907285\nEpoch 50, Loss: 1.183786153793335, Val Loss: 1.6313706295830863, Train R2 Score: 0.14345682071871302, Val R2 Score: 0.12279638294989104\nEpoch 51, Loss: 1.183508038520813, Val Loss: 1.631149709224701, Train R2 Score: 0.14362997778949382, Val R2 Score: 0.12291543018372075\nEpoch 52, Loss: 1.1832163333892822, Val Loss: 1.6309636916433061, Train R2 Score: 0.14378606464767874, Val R2 Score: 0.12301649921250934\nEpoch 53, Loss: 1.182925820350647, Val Loss: 1.6308096306664603, Train R2 Score: 0.14393806107239415, Val R2 Score: 0.12310152454707413\nEpoch 54, Loss: 1.1825953722000122, Val Loss: 1.6306458967072623, Train R2 Score: 0.1440831400397673, Val R2 Score: 0.12319095843437566\nEpoch 55, Loss: 1.1823300123214722, Val Loss: 1.6304674063410078, Train R2 Score: 0.14422204044662756, Val R2 Score: 0.12328819339192909\nEpoch 56, Loss: 1.182056188583374, Val Loss: 1.6302997469902039, Train R2 Score: 0.14435275613088216, Val R2 Score: 0.12337882697215163\nEpoch 57, Loss: 1.1817837953567505, Val Loss: 1.6301679951804025, Train R2 Score: 0.14447053149958278, Val R2 Score: 0.12345065219048679\nEpoch 58, Loss: 1.181503176689148, Val Loss: 1.6300699881144933, Train R2 Score: 0.14458616150428427, Val R2 Score: 0.12350271929986323\nEpoch 59, Loss: 1.1812336444854736, Val Loss: 1.6299669998032706, Train R2 Score: 0.14469728946761817, Val R2 Score: 0.12355864492063251\nEpoch 60, Loss: 1.1809711456298828, Val Loss: 1.6298655782427107, Train R2 Score: 0.14481138723408804, Val R2 Score: 0.12361287839949453\nEpoch 61, Loss: 1.1806474924087524, Val Loss: 1.6297527721949987, Train R2 Score: 0.1449231519825005, Val R2 Score: 0.12367445515212905\nEpoch 62, Loss: 1.1803523302078247, Val Loss: 1.6296228085245406, Train R2 Score: 0.1450373636985487, Val R2 Score: 0.12374404199707945\nEpoch 63, Loss: 1.1800739765167236, Val Loss: 1.629505923816136, Train R2 Score: 0.14514898067904014, Val R2 Score: 0.1238065742536637\nEpoch 64, Loss: 1.1798865795135498, Val Loss: 1.6294148904936654, Train R2 Score: 0.14524880638460202, Val R2 Score: 0.12385622983347155\nEpoch 65, Loss: 1.1797285079956055, Val Loss: 1.6293409040996008, Train R2 Score: 0.1453512687463585, Val R2 Score: 0.12389659397770514\nEpoch 66, Loss: 1.179647445678711, Val Loss: 1.6292730058942522, Train R2 Score: 0.14545175215996575, Val R2 Score: 0.12393476102515877\nEpoch 67, Loss: 1.179535150527954, Val Loss: 1.6291746156556266, Train R2 Score: 0.14555172377947845, Val R2 Score: 0.12398841372866076\nEpoch 68, Loss: 1.1794477701187134, Val Loss: 1.6290656668799264, Train R2 Score: 0.14565311334765052, Val R2 Score: 0.12404820373241865\nEpoch 69, Loss: 1.179406762123108, Val Loss: 1.6289926767349243, Train R2 Score: 0.14574983655542262, Val R2 Score: 0.12408949544938952\nEpoch 70, Loss: 1.1792694330215454, Val Loss: 1.6289050664220537, Train R2 Score: 0.1458452351212608, Val R2 Score: 0.12413889258880073\nEpoch 71, Loss: 1.1792184114456177, Val Loss: 1.6288012095860072, Train R2 Score: 0.1459335089170014, Val R2 Score: 0.12419717787103657\nEpoch 72, Loss: 1.1791353225708008, Val Loss: 1.6287050587790353, Train R2 Score: 0.14602088516440026, Val R2 Score: 0.12425119154267938\nEpoch 73, Loss: 1.1790951490402222, Val Loss: 1.6286502735955375, Train R2 Score: 0.14610751798427113, Val R2 Score: 0.12428328753403262\nEpoch 74, Loss: 1.1790300607681274, Val Loss: 1.6285877653530665, Train R2 Score: 0.14619057952975045, Val R2 Score: 0.12431925979214087\nEpoch 75, Loss: 1.1790754795074463, Val Loss: 1.6285292080470495, Train R2 Score: 0.14627180513398752, Val R2 Score: 0.12435285916666727\nEpoch 76, Loss: 1.179058313369751, Val Loss: 1.6284287231309074, Train R2 Score: 0.14635494833909524, Val R2 Score: 0.12440908946580309\nEpoch 77, Loss: 1.1790446043014526, Val Loss: 1.628382078238896, Train R2 Score: 0.1464332974611412, Val R2 Score: 0.12443602720735736\nEpoch 78, Loss: 1.1790237426757812, Val Loss: 1.6282809206417628, Train R2 Score: 0.14651407153250484, Val R2 Score: 0.12449198576266507\nEpoch 79, Loss: 1.1790152788162231, Val Loss: 1.6282158919743128, Train R2 Score: 0.1465912536091334, Val R2 Score: 0.12452871256927234\nEpoch 80, Loss: 1.1789981126785278, Val Loss: 1.6281495605196272, Train R2 Score: 0.14666577005383363, Val R2 Score: 0.12456549753208324\nEpoch 81, Loss: 1.1790201663970947, Val Loss: 1.6280571222305298, Train R2 Score: 0.14673181986021233, Val R2 Score: 0.12461671437060895\nEpoch 82, Loss: 1.1790035963058472, Val Loss: 1.6279860734939575, Train R2 Score: 0.14680364004259838, Val R2 Score: 0.12465743506926097\nEpoch 83, Loss: 1.178968906402588, Val Loss: 1.6279064076287406, Train R2 Score: 0.14686833341076588, Val R2 Score: 0.12470334075007972\nEpoch 84, Loss: 1.1789640188217163, Val Loss: 1.627850592136383, Train R2 Score: 0.14693103085037706, Val R2 Score: 0.12473614327386662\nEpoch 85, Loss: 1.1789343357086182, Val Loss: 1.6278056842940194, Train R2 Score: 0.1469937349800713, Val R2 Score: 0.12476294707709856\nEpoch 86, Loss: 1.178940773010254, Val Loss: 1.627742954662868, Train R2 Score: 0.1470540208668556, Val R2 Score: 0.12479907484813535\nEpoch 87, Loss: 1.178907036781311, Val Loss: 1.6276707223483495, Train R2 Score: 0.1471080899088958, Val R2 Score: 0.12483990230416475\nEpoch 88, Loss: 1.1789499521255493, Val Loss: 1.6276109559195382, Train R2 Score: 0.14716736427424693, Val R2 Score: 0.12487366043168469\nEpoch 89, Loss: 1.1789429187774658, Val Loss: 1.6275213190487452, Train R2 Score: 0.14722427002959892, Val R2 Score: 0.12492258983963267\nEpoch 90, Loss: 1.1789343357086182, Val Loss: 1.6274555921554565, Train R2 Score: 0.14728368079391563, Val R2 Score: 0.12495883308985067\nEpoch 91, Loss: 1.1789218187332153, Val Loss: 1.6273925730160304, Train R2 Score: 0.14733953991537807, Val R2 Score: 0.12499360297682016\nEpoch 92, Loss: 1.178951621055603, Val Loss: 1.6273380858557565, Train R2 Score: 0.1473948789097097, Val R2 Score: 0.12502374422474472\nEpoch 93, Loss: 1.17900812625885, Val Loss: 1.6272709199360438, Train R2 Score: 0.14745002600225976, Val R2 Score: 0.12505954922904805\nEpoch 94, Loss: 1.1790212392807007, Val Loss: 1.6271889550345284, Train R2 Score: 0.14750823590082507, Val R2 Score: 0.12510320086138726\nEpoch 95, Loss: 1.179011583328247, Val Loss: 1.627125186579568, Train R2 Score: 0.1475660796391819, Val R2 Score: 0.12513639148015254\nEpoch 96, Loss: 1.1789754629135132, Val Loss: 1.6270599109785897, Train R2 Score: 0.1476203667038387, Val R2 Score: 0.1251714894648034\nEpoch 97, Loss: 1.1790392398834229, Val Loss: 1.627022044999259, Train R2 Score: 0.14767169786638423, Val R2 Score: 0.12519185750087658\nEpoch 98, Loss: 1.178957223892212, Val Loss: 1.6269570418766566, Train R2 Score: 0.14772576299616913, Val R2 Score: 0.12522647067692472\nEpoch 99, Loss: 1.1789054870605469, Val Loss: 1.6269144245556422, Train R2 Score: 0.1477807058872027, Val R2 Score: 0.12524897815267533\nEpoch 100, Loss: 1.1787559986114502, Val Loss: 1.6268470968518938, Train R2 Score: 0.14783303201035158, Val R2 Score: 0.12528455744698486\nEpoch 101, Loss: 1.178719401359558, Val Loss: 1.626771398953029, Train R2 Score: 0.14788906109000421, Val R2 Score: 0.12532501366816307\nEpoch 102, Loss: 1.1786900758743286, Val Loss: 1.6266911455563136, Train R2 Score: 0.14794014153973145, Val R2 Score: 0.1253668186879393\nEpoch 103, Loss: 1.178612232208252, Val Loss: 1.626650103500911, Train R2 Score: 0.14798534474672176, Val R2 Score: 0.12538948294205543\nEpoch 104, Loss: 1.1785318851470947, Val Loss: 1.626617167677198, Train R2 Score: 0.14802930557289617, Val R2 Score: 0.12540780352790248\nEpoch 105, Loss: 1.1785244941711426, Val Loss: 1.6265958121844701, Train R2 Score: 0.14807580591978853, Val R2 Score: 0.12541929399858587\nEpoch 106, Loss: 1.1784515380859375, Val Loss: 1.6265800680433, Train R2 Score: 0.14811984763150166, Val R2 Score: 0.12542850366191882\nEpoch 107, Loss: 1.1784398555755615, Val Loss: 1.6265863350459508, Train R2 Score: 0.14816546295873623, Val R2 Score: 0.12542540398258317\nEpoch 108, Loss: 1.1784064769744873, Val Loss: 1.6265737925257002, Train R2 Score: 0.14820352171318085, Val R2 Score: 0.12543230975984276\nEpoch 109, Loss: 1.1783900260925293, Val Loss: 1.626572242804936, Train R2 Score: 0.14824387013407314, Val R2 Score: 0.1254329482720562\nEpoch 110, Loss: 1.1783990859985352, Val Loss: 1.6265440668378557, Train R2 Score: 0.14828315333707187, Val R2 Score: 0.1254473137844806\nEpoch 111, Loss: 1.1784149408340454, Val Loss: 1.6265135833195277, Train R2 Score: 0.14831732016044719, Val R2 Score: 0.12546310868649402\nEpoch 112, Loss: 1.1784679889678955, Val Loss: 1.6264855010168893, Train R2 Score: 0.14835344357146485, Val R2 Score: 0.12547746973665852\nEpoch 113, Loss: 1.1785014867782593, Val Loss: 1.6264598539897375, Train R2 Score: 0.1483876965970803, Val R2 Score: 0.1254909924256873\nEpoch 114, Loss: 1.178565502166748, Val Loss: 1.6264522756849016, Train R2 Score: 0.14841658959690296, Val R2 Score: 0.12549489751619902\nEpoch 115, Loss: 1.1785848140716553, Val Loss: 1.6264071209090096, Train R2 Score: 0.1484479556457421, Val R2 Score: 0.12551882133606151\nEpoch 116, Loss: 1.1786445379257202, Val Loss: 1.626369868006025, Train R2 Score: 0.14847679481312903, Val R2 Score: 0.1255382592784141\nEpoch 117, Loss: 1.1786363124847412, Val Loss: 1.6263494065829687, Train R2 Score: 0.1485066230439882, Val R2 Score: 0.12554987601438639\nEpoch 118, Loss: 1.1786909103393555, Val Loss: 1.626347805772509, Train R2 Score: 0.1485373701912629, Val R2 Score: 0.12555087915343266\nEpoch 119, Loss: 1.1786777973175049, Val Loss: 1.6263210603169032, Train R2 Score: 0.14856837334068884, Val R2 Score: 0.1255660880092363\nEpoch 120, Loss: 1.1786689758300781, Val Loss: 1.6262983679771423, Train R2 Score: 0.1486014502118257, Val R2 Score: 0.12557887261401113\nEpoch 121, Loss: 1.1785944700241089, Val Loss: 1.6262453283582414, Train R2 Score: 0.14863231105278096, Val R2 Score: 0.12560741014639587\nEpoch 122, Loss: 1.1785768270492554, Val Loss: 1.626196222645896, Train R2 Score: 0.14866340921568022, Val R2 Score: 0.1256334290290395\nEpoch 123, Loss: 1.178536057472229, Val Loss: 1.6261387126786369, Train R2 Score: 0.14869381059907394, Val R2 Score: 0.12566454243969405\nEpoch 124, Loss: 1.1784887313842773, Val Loss: 1.6260860817773002, Train R2 Score: 0.1487209165340192, Val R2 Score: 0.12569292317882919\n",
     "output_type": "stream"
    }
   ]
  },
  {
   "cell_type": "code",
   "source": [
    "def prepare_time_series(df):\n",
    "    ts = ((df.index - pd.to_datetime('1970-01-01')) // pd.Timedelta('1ns')).values\n",
    "    window = pd.Timedelta('500ms') // pd.Timedelta('1ns')\n",
    "    seq_len = 20\n",
    "\n",
    "    dfs = [df[[]].copy() for _ in range(seq_len)]\n",
    "\n",
    "    cols = dict()\n",
    "\n",
    "    price_df = ((df.SANHOK_bid0_price + df.SANHOK_ask0_price) / 2)\n",
    "    price = price_df.values\n",
    "    cols['price'] = price\n",
    "    cols['v_01'] = ((df.SANHOK_bid1_price + df.SANHOK_ask1_price) / 2).values - price\n",
    "    cols['v_02'] = ((df.SANHOK_bid2_price + df.SANHOK_ask2_price) / 2).values - price\n",
    "    # cols['v_03'] = ((df.SANHOK_bid3_price + df.SANHOK_ask3_price) / 2).values - price\n",
    "    # cols['v_04'] = ((df.SANHOK_bid4_price + df.SANHOK_ask4_price) / 2).values - price\n",
    "    cols['500ms'] = get_past_price(ts, price, window)[0] - price\n",
    "    cols['1s'] = get_past_price(ts, price, window * 2)[0] - price\n",
    "    cols['2s'] = get_past_price(ts, price, window * 4)[0] - price\n",
    "    cols['5s_range'] = (price_df.rolling(window='5s', closed='both').min() - price_df.rolling(window='5s', closed='both').max()).values\n",
    "    cols['5s_volatility'] = price_df.rolling(window='5s', closed='both').std()\n",
    "    mean_val = cols['5s_volatility'].mean()\n",
    "    cols['5s_volatility'] = cols['5s_volatility'].fillna(mean_val).values\n",
    "\n",
    "    for i in range(3):\n",
    "        cols[f'bid{i}_qty'] = df[f'SANHOK_bid{i}_qty'].values\n",
    "        cols[f'ask{i}_qty'] = df[f'SANHOK_ask{i}_qty'].values\n",
    "\n",
    "    for i in range(1, seq_len + 1):\n",
    "        for key, value in cols.items():\n",
    "            new_value = get_past_price(ts, value, window * i)[0]\n",
    "            dfs[-i][f'{key}_diff'] = new_value - value\n",
    "            cols[key] = new_value\n",
    "\n",
    "    data = np.stack([df.to_numpy() for df in dfs])\n",
    "\n",
    "    return np.transpose(data, (1, 2, 0)) # bs nf seq"
   ],
   "metadata": {
    "id": "AblIBjUvQl3P",
    "executionInfo": {
     "status": "aborted",
     "timestamp": 1711556628113,
     "user_tz": -180,
     "elapsed": 11,
     "user": {
      "displayName": "Anna Lisachenko",
      "userId": "02468641400863824289"
     }
    },
    "trusted": true
   },
   "execution_count": null,
   "outputs": []
  },
  {
   "cell_type": "code",
   "source": [
    "NUM_TRAIN_FILES = 10\n",
    "NUM_VAL_FILES = 3\n",
    "\n",
    "df_train = pd.concat([pd.read_feather(f'{data_dir}/train_{i}.feather') for i in tqdm(range(NUM_TRAIN_FILES))]).set_index('timestamp')\n",
    "df_val = pd.concat([pd.read_feather(f'{data_dir}/train_{i}.feather') for i in tqdm(range(NUM_TRAIN_FILES, NUM_TRAIN_FILES + NUM_VAL_FILES))]).set_index('timestamp')\n",
    "\n",
    "features = [column for column in df_train.columns if column.startswith('SANHOK')]\n",
    "\n",
    "X_train = df_train[features]\n",
    "X_val = df_val[features]\n",
    "\n",
    "# scaler = StandardScaler()\n",
    "\n",
    "# X_train_scaled_np = scaler.fit_transform(X_train)\n",
    "# X_val_scaled_np = scaler.transform(X_val)\n",
    "\n",
    "# X_train_scaled = pd.DataFrame(X_train_scaled_np, index=X_train.index, columns=X_train.columns)\n",
    "# X_val_scaled = pd.DataFrame(X_val_scaled_np, index=X_val.index, columns=X_val.columns)\n",
    "\n",
    "X_train_ts = prepare_time_series(X_train)\n",
    "X_val_ts = prepare_time_series(X_val)\n",
    "\n",
    "y_train = df_train['target'].values\n",
    "y_val = df_val['target'].values\n",
    "\n",
    "X_train_ts.shape"
   ],
   "metadata": {
    "id": "EI1OIdyTrIqD",
    "executionInfo": {
     "status": "aborted",
     "timestamp": 1711556628113,
     "user_tz": -180,
     "elapsed": 10,
     "user": {
      "displayName": "Anna Lisachenko",
      "userId": "02468641400863824289"
     }
    },
    "trusted": true
   },
   "execution_count": null,
   "outputs": []
  },
  {
   "cell_type": "code",
   "source": [
    "# Convert to torch tensors\n",
    "X_train_tensor = torch.tensor(X_train_ts, dtype=torch.float32)\n",
    "y_train_tensor = torch.tensor(y_train, dtype=torch.float32)\n",
    "X_val_tensor = torch.tensor(X_val_ts, dtype=torch.float32)\n",
    "y_val_tensor = torch.tensor(y_val, dtype=torch.float32)\n",
    "\n",
    "# scaler = preprocessing.StandardScaler()\n",
    "# sk_train_scaled = scaler.fit_transform(train[columns])\n",
    "# sk_test_scaled = scaler.transform(test[columns])\n",
    "\n",
    "BATCH_SIZE = 10000\n",
    "\n",
    "train_data = DataLoader(TensorDataset(X_train_tensor, y_train_tensor), batch_size=BATCH_SIZE, shuffle=True, pin_memory=True, num_workers=4)\n",
    "val_data = DataLoader(TensorDataset(X_val_tensor, y_val_tensor), batch_size=BATCH_SIZE, shuffle=False, pin_memory=True, num_workers=4)\n",
    "\n",
    "# for feature_batch, target_batch in train_data:\n",
    "#     print(\"Feature batch shape:\", feature_batch.shape)  # [batch_size, features, time steps]\n",
    "#     print(\"Target batch shape:\", target_batch.shape)  # [batch_size]\n",
    "\n",
    "# 2. Define the model\n",
    "class GruNN(nn.Module):\n",
    "    def __init__(self, input_size, hidden_size, num_layers):\n",
    "        super().__init__()\n",
    "        self.norm = nn.BatchNorm1d(input_size)\n",
    "        self.gru = nn.GRU(input_size, hidden_size, batch_first=True, num_layers=num_layers)\n",
    "        self.fc = nn.Linear(hidden_size * num_layers, 1)\n",
    "\n",
    "    def forward(self, x):\n",
    "        x = self.norm(x)\n",
    "        x = torch.transpose(x, 1, 2)\n",
    "        out = self.gru(x)[1]\n",
    "        out = out.transpose(0, 1)\n",
    "        out = out.flatten(1, 2)\n",
    "        res = self.fc(out).squeeze(-1)\n",
    "\n",
    "        return res\n",
    "\n",
    "device = torch.device(\"cuda\" if torch.cuda.is_available() else \"cpu\")\n",
    "print(device)\n",
    "model = GruNN(X_train_ts.shape[1], 50, 3).to(device)\n",
    "\n",
    "# 3. Training pipeline\n",
    "optimizer = optim.Adam(model.parameters())\n",
    "criterion = nn.MSELoss()\n",
    "\n",
    "for epoch in range(100): # number of epochs\n",
    "    model.train()\n",
    "    actuals = []\n",
    "    predictions = []\n",
    "    for inputs, targets in train_data:\n",
    "        inputs, targets = inputs.to(device), targets.to(device)\n",
    "        optimizer.zero_grad()\n",
    "        outputs = model(inputs)\n",
    "        loss = criterion(outputs, targets)\n",
    "        loss.backward()\n",
    "        optimizer.step()\n",
    "        actuals.extend(targets.cpu().numpy())\n",
    "        predictions.extend(outputs.detach().cpu().numpy())\n",
    "    train_r2_score = r2_score(actuals, predictions)\n",
    "\n",
    "    # 4. Validation pipeline\n",
    "    model.eval()\n",
    "    actuals = []\n",
    "    predictions = []\n",
    "    with torch.no_grad():\n",
    "        val_loss = 0\n",
    "        for inputs, targets in val_data:\n",
    "            inputs, targets = inputs.to(device), targets.to(device)\n",
    "            outputs = model(inputs)\n",
    "            val_loss += criterion(outputs, targets).item()\n",
    "            actuals.extend(targets.cpu().numpy())\n",
    "            predictions.extend(outputs.cpu().numpy())\n",
    "    val_r2_score = r2_score(actuals, predictions)\n",
    "    print(f'Epoch {epoch}, Loss: {loss.item()}, Val Loss: {val_loss / len(val_data)}, Train R2 Score: {train_r2_score}, Val R2 Score: {val_r2_score}')"
   ],
   "metadata": {
    "id": "pu62iXmPD8L7",
    "executionInfo": {
     "status": "aborted",
     "timestamp": 1711556628113,
     "user_tz": -180,
     "elapsed": 9,
     "user": {
      "displayName": "Anna Lisachenko",
      "userId": "02468641400863824289"
     }
    },
    "trusted": true
   },
   "execution_count": null,
   "outputs": []
  },
  {
   "cell_type": "code",
   "source": [],
   "metadata": {
    "id": "JGcaDbYw39rx",
    "executionInfo": {
     "status": "aborted",
     "timestamp": 1711556628113,
     "user_tz": -180,
     "elapsed": 9,
     "user": {
      "displayName": "Anna Lisachenko",
      "userId": "02468641400863824289"
     }
    }
   },
   "execution_count": null,
   "outputs": []
  }
 ]
}
